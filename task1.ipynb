{
 "cells": [
  {
   "cell_type": "code",
   "execution_count": 1,
   "metadata": {},
   "outputs": [],
   "source": [
    "using Statistics\n",
    "using Plots\n",
    "using LaTeXStrings\n",
    "using PlotThemes\n",
    "# plotlyjs();\n",
    "include(\"integrator.jl\")\n",
    "theme(:vibrant;)"
   ]
  },
  {
   "cell_type": "code",
   "execution_count": 17,
   "metadata": {},
   "outputs": [
    {
     "data": {
      "text/plain": [
       "201"
      ]
     },
     "metadata": {},
     "output_type": "display_data"
    }
   ],
   "source": [
    "Δl = 0.005\n",
    "l = 1\n",
    "\n",
    "xs = 0:Δl:l\n",
    "ys = 0:Δl:l\n",
    "\n",
    "N = length(xs)"
   ]
  },
  {
   "cell_type": "code",
   "execution_count": 18,
   "metadata": {},
   "outputs": [],
   "source": [
    "ns = [1,10,100,1000]\n",
    "\n",
    "plots = Any[]\n",
    "\n",
    "Threads.@threads for n in ns\n",
    "  ϕ = [laplace_inf_sum(x,y,l,n) for x in xs, y in ys]\n",
    "  push!(plots, heatmap(xs,ys,ϕ, title=\"n=$n\"))\n",
    "end;\n"
   ]
  },
  {
   "cell_type": "code",
   "execution_count": 19,
   "metadata": {},
   "outputs": [
    {
     "data": {
      "text/plain": [
       "\"/Users/simonblaue/ownCloud/Master/Methods for Computaional Physics/Exercises/Ex4/saves/comp_lapplace_series_heatmap.pdf\""
      ]
     },
     "metadata": {},
     "output_type": "display_data"
    }
   ],
   "source": [
    "plot(plots[1],plots[2],plots[3],plots[4],  layout=4)\n",
    "savefig(\"saves/comp_lapplace_series_heatmap.pdf\")"
   ]
  },
  {
   "cell_type": "code",
   "execution_count": 5,
   "metadata": {},
   "outputs": [],
   "source": [
    "ϕ₀ = zeros(length(xs),length(ys))\n",
    "ϕ₀[1,:] .= 100;"
   ]
  },
  {
   "cell_type": "code",
   "execution_count": 6,
   "metadata": {},
   "outputs": [
    {
     "name": "stdout",
     "output_type": "stream",
     "text": [
      "Stopped after 13415 steps with an error of 0.0009999861511182928 \n"
     ]
    },
    {
     "name": "stdout",
     "output_type": "stream",
     "text": [
      "Stopped after 6668 steps with an error of 0.0009999987507178787 \n"
     ]
    }
   ],
   "source": [
    "x_j, k_j, ϵs_max_j,ϵs_av_j = jacobi(ϕ₀);\n",
    "x_gs, k_gs, ϵs_max_gs ,ϵs_av_gs = gauß_seidel(ϕ₀);"
   ]
  },
  {
   "cell_type": "code",
   "execution_count": 7,
   "metadata": {},
   "outputs": [
    {
     "name": "stdout",
     "output_type": "stream",
     "text": [
      "Stopped after 20084 steps with an error of 0.0009999388432113676 \n"
     ]
    },
    {
     "name": "stdout",
     "output_type": "stream",
     "text": [
      "Stopped after 6668 steps with an error of 0.0009999987507178787 \n"
     ]
    },
    {
     "name": "stdout",
     "output_type": "stream",
     "text": [
      "Stopped after 3986 steps with an error of 0.0009996442229720515 \n"
     ]
    },
    {
     "name": "stdout",
     "output_type": "stream",
     "text": [
      "Stopped after 2198 steps with an error of 0.0009992753615861716 \n"
     ]
    },
    {
     "name": "stdout",
     "output_type": "stream",
     "text": [
      "Stopped after 922 steps with an error of 0.0009986835292181695 \n"
     ]
    },
    {
     "name": "stdout",
     "output_type": "stream",
     "text": [
      "Stopped after 1122 steps with an error of 0.0009958714019112636 \n"
     ]
    }
   ],
   "source": [
    "αs = [0.5 1.0 1.25 1.5 1.75 1.99]\n",
    "\n",
    "res = Any[]\n",
    "\n",
    "for α in αs\n",
    "  push!(res, SOR(ϕ₀, α))\n",
    "end"
   ]
  },
  {
   "cell_type": "code",
   "execution_count": 8,
   "metadata": {},
   "outputs": [
    {
     "data": {
      "text/plain": [
       "\"/Users/simonblaue/ownCloud/Master/Methods for Computaional Physics/Exercises/Ex4/saves/max_errors_comp.pdf\""
      ]
     },
     "metadata": {},
     "output_type": "display_data"
    }
   ],
   "source": [
    "data = [ϵs_max_j, ϵs_max_gs,res[1][3],res[3][3],res[4][3],res[5][3]]\n",
    "labels = [\"Jacobi\" \"Gauss-Seidel\" \"SOR 0.5\" \"SOR 1.25\" \"SOR 1.5\" \"SOR 1.75\"]\n",
    "plot(data, xlim=(0,100), label=labels, title=\"Maximal error vs step\")\n",
    "savefig(\"saves/max_errors_comp.pdf\")"
   ]
  },
  {
   "cell_type": "code",
   "execution_count": 9,
   "metadata": {},
   "outputs": [
    {
     "data": {
      "text/plain": [
       "\"/Users/simonblaue/ownCloud/Master/Methods for Computaional Physics/Exercises/Ex4/saves/max_errors_SOR_comp.pdf\""
      ]
     },
     "metadata": {},
     "output_type": "display_data"
    }
   ],
   "source": [
    "data = [res[1][3],res[2][3],res[3][3],res[4][3],res[5][3],res[6][3]]\n",
    "labels = [\"SOR 0.5\" \"SOR 1.0\" \"SOR 1.25\" \"SOR 1.5\" \"SOR 1.75\" \"SOR 1.99\"]\n",
    "plot(data, xlim=(0,400), label=labels, title=\"Maximal error vs step\")\n",
    "savefig(\"saves/max_errors_SOR_comp.pdf\")"
   ]
  },
  {
   "cell_type": "code",
   "execution_count": 10,
   "metadata": {},
   "outputs": [
    {
     "data": {
      "text/plain": [
       "\"/Users/simonblaue/ownCloud/Master/Methods for Computaional Physics/Exercises/Ex4/saves/av_errors_SOR_comp.pdf\""
      ]
     },
     "metadata": {},
     "output_type": "display_data"
    }
   ],
   "source": [
    "data = [res[1][4],res[2][4],res[3][4],res[4][4],res[5][4],res[6][4]]\n",
    "labels = [\"SOR 0.5\" \"SOR 1.0\" \"SOR 1.25\" \"SOR 1.5\" \"SOR 1.75\" \"SOR 1.99\"]\n",
    "plot(data, xlim=(0,400), label=labels, title=\"Average error vs step\")\n",
    "savefig(\"saves/av_errors_SOR_comp.pdf\")"
   ]
  },
  {
   "cell_type": "code",
   "execution_count": 11,
   "metadata": {},
   "outputs": [
    {
     "data": {
      "text/plain": [
       "\"/Users/simonblaue/ownCloud/Master/Methods for Computaional Physics/Exercises/Ex4/saves/av_errors_comp.pdf\""
      ]
     },
     "metadata": {},
     "output_type": "display_data"
    }
   ],
   "source": [
    "data = [ϵs_av_j, ϵs_av_gs, res[1][4],res[2][4],res[3][4],res[4][4],res[5][4],res[6][4]]\n",
    "labels = [\"Jacobi\" \"Gauß Seidel\" \"SOR 0.5\" \"SOR 1.0\" \"SOR 1.25\" \"SOR 1.5\" \"SOR 1.75\" \"SOR 1.99\"]\n",
    "plot(data, xlim=(0,400), label=labels, title=\"Average error vs step\")\n",
    "savefig(\"saves/av_errors_comp.pdf\")"
   ]
  },
  {
   "cell_type": "code",
   "execution_count": 12,
   "metadata": {},
   "outputs": [
    {
     "data": {
      "text/plain": [
       "\"/Users/simonblaue/ownCloud/Master/Methods for Computaional Physics/Exercises/Ex4/saves/number_of_convergence_steps.pdf\""
      ]
     },
     "metadata": {},
     "output_type": "display_data"
    }
   ],
   "source": [
    "data = [k_j, k_gs, res[1][2],res[2][2],res[3][2],res[4][2],res[5][2],res[6][2]]\n",
    "labels = [\"Jacobi\", \"Gauß Seidel\", \"SOR 0.5\", \"SOR 1.0\", \"SOR 1.25\", \"SOR 1.5\", \"SOR 1.75\", \"SOR 1.99\"]\n",
    "scatter(labels,data, title=\"Number of steps until convergence\", legend=false)\n",
    "plot!([\"Gauß Seidel\", \"SOR 1.0\"], [k_gs, k_gs])\n",
    "savefig(\"saves/number_of_convergence_steps.pdf\")"
   ]
  },
  {
   "cell_type": "code",
   "execution_count": 15,
   "metadata": {},
   "outputs": [
    {
     "data": {
      "text/plain": [
       "\"/Users/simonblaue/ownCloud/Master/Methods for Computaional Physics/Exercises/Ex4/saves/difference_laplace_heatmap.pdf\""
      ]
     },
     "metadata": {},
     "output_type": "display_data"
    }
   ],
   "source": [
    "iterative_heatmap = heatmap(xs,ys, x_gs, title=\"After Gauß Seidel Iteration\")\n",
    "series_heatmap_1000 = heatmap(xs, ys, [laplace_inf_sum(x,y,l,1000) for x in xs, y in ys], title=\"Infinite sum with n=1000\")\n",
    "difference_heatmap = heatmap(xs,ys, x_gs-[laplace_inf_sum(x,y,l,1000) for x in xs, y in ys], title=\"Difference\")\n",
    "savefig(\"saves/difference_laplace_heatmap.pdf\")"
   ]
  },
  {
   "cell_type": "code",
   "execution_count": 16,
   "metadata": {},
   "outputs": [
    {
     "data": {
      "text/plain": [
       "\"/Users/simonblaue/ownCloud/Master/Methods for Computaional Physics/Exercises/Ex4/saves/comp_laplace_heatmap.pdf\""
      ]
     },
     "metadata": {},
     "output_type": "display_data"
    }
   ],
   "source": [
    "plot(iterative_heatmap, series_heatmap_1000, layout=grid(1,2, widths=(4/8,4/8)), size=(800,300))\n",
    "savefig(\"saves/comp_laplace_heatmap.pdf\")"
   ]
  },
  {
   "cell_type": "code",
   "execution_count": null,
   "metadata": {},
   "outputs": [],
   "source": []
  }
 ],
 "metadata": {
  "kernelspec": {
   "display_name": "Julia 1.8.3",
   "language": "julia",
   "name": "julia-1.8"
  },
  "language_info": {
   "file_extension": ".jl",
   "mimetype": "application/julia",
   "name": "julia",
   "version": "1.8.3"
  },
  "orig_nbformat": 4
 },
 "nbformat": 4,
 "nbformat_minor": 2
}
