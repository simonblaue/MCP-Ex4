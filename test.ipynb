{
 "cells": [
  {
   "cell_type": "code",
   "execution_count": 10,
   "metadata": {},
   "outputs": [
    {
     "data": {
      "text/plain": [
       "gauß_seidel (generic function with 1 method)"
      ]
     },
     "metadata": {},
     "output_type": "display_data"
    }
   ],
   "source": [
    "using Statistics\n",
    "include(\"integrator.jl\")"
   ]
  },
  {
   "cell_type": "code",
   "execution_count": 11,
   "metadata": {},
   "outputs": [
    {
     "data": {
      "text/plain": [
       "100×100 Matrix{Float64}:\n",
       "   0.0    0.0    0.0    0.0    0.0  …    0.0    0.0    0.0    0.0    0.0\n",
       "   0.0    0.0    0.0    0.0    0.0       0.0    0.0    0.0    0.0    0.0\n",
       "   0.0    0.0    0.0    0.0    0.0       0.0    0.0    0.0    0.0    0.0\n",
       "   0.0    0.0    0.0    0.0    0.0       0.0    0.0    0.0    0.0    0.0\n",
       "   0.0    0.0    0.0    0.0    0.0       0.0    0.0    0.0    0.0    0.0\n",
       "   0.0    0.0    0.0    0.0    0.0  …    0.0    0.0    0.0    0.0    0.0\n",
       "   0.0    0.0    0.0    0.0    0.0       0.0    0.0    0.0    0.0    0.0\n",
       "   0.0    0.0    0.0    0.0    0.0       0.0    0.0    0.0    0.0    0.0\n",
       "   0.0    0.0    0.0    0.0    0.0       0.0    0.0    0.0    0.0    0.0\n",
       "   0.0    0.0    0.0    0.0    0.0       0.0    0.0    0.0    0.0    0.0\n",
       "   ⋮                                ⋱    ⋮                         \n",
       "   0.0    0.0    0.0    0.0    0.0       0.0    0.0    0.0    0.0    0.0\n",
       "   0.0    0.0    0.0    0.0    0.0       0.0    0.0    0.0    0.0    0.0\n",
       "   0.0    0.0    0.0    0.0    0.0       0.0    0.0    0.0    0.0    0.0\n",
       "   0.0    0.0    0.0    0.0    0.0       0.0    0.0    0.0    0.0    0.0\n",
       "   0.0    0.0    0.0    0.0    0.0  …    0.0    0.0    0.0    0.0    0.0\n",
       "   0.0    0.0    0.0    0.0    0.0       0.0    0.0    0.0    0.0    0.0\n",
       "   0.0    0.0    0.0    0.0    0.0       0.0    0.0    0.0    0.0    0.0\n",
       "   0.0    0.0    0.0    0.0    0.0       0.0    0.0    0.0    0.0    0.0\n",
       " 100.0  100.0  100.0  100.0  100.0     100.0  100.0  100.0  100.0  100.0"
      ]
     },
     "metadata": {},
     "output_type": "display_data"
    }
   ],
   "source": [
    "Δl = 0.01\n",
    "l = 1\n",
    "N =Int(l/Δl)\n",
    "\n",
    "x0 = zeros(N,N)\n",
    "x0[end,:] .= 100\n",
    "x0"
   ]
  },
  {
   "cell_type": "code",
   "execution_count": 3,
   "metadata": {},
   "outputs": [],
   "source": [
    "using LinearAlgebra"
   ]
  },
  {
   "cell_type": "code",
   "execution_count": 1,
   "metadata": {},
   "outputs": [
    {
     "data": {
      "text/plain": [
       "101"
      ]
     },
     "metadata": {},
     "output_type": "display_data"
    }
   ],
   "source": [
    "L = 1\n",
    "C = 900\n",
    "K = 210\n",
    "ρ = 2700\n",
    "Δt = 0.1\n",
    "Nₜ = 10000\n",
    "\n",
    "Δx = 0.01\n",
    "# Nₓ = floor(Int,L/Δx+1)\n",
    "xs = 0:Δx:L\n",
    "\n",
    "Δts = 0.001:0.0005:0.7\n",
    "ts =  0:Nₜ\n",
    "t=100\n",
    "\n",
    "\n",
    "λ = K/(C*ρ)\n",
    "a = λ*Δt/Δx^2\n",
    "T0 = sin.((π*xs) / L)\n",
    "Nₓ = length(T0)"
   ]
  },
  {
   "cell_type": "code",
   "execution_count": 4,
   "metadata": {},
   "outputs": [
    {
     "data": {
      "text/plain": [
       "0"
      ]
     },
     "metadata": {},
     "output_type": "display_data"
    }
   ],
   "source": [
    "\n",
    "\n",
    "a = λ*Δt/(2*Δx^2)\n",
    "A =Tridiagonal([-a for _ in 1:Nₓ-1], [(1+2*a) for _ in 1:Nₓ], [-a for _ in 1:Nₓ-1])\n",
    "A[1,2] = 0;\n",
    "A[1,1] = 1;\n",
    "A[end,end] = 1\n",
    "A[end,end-1] = 0\n",
    "B =Tridiagonal([a for _ in 1:Nₓ-1], [(1-2*a) for _ in 1:Nₓ], [a for _ in 1:Nₓ-1])\n",
    "B[1,2] = 0;\n",
    "B[1,1] = 1;\n",
    "B[end,end] = 1\n",
    "B[end,end-1] = 0"
   ]
  },
  {
   "cell_type": "code",
   "execution_count": 6,
   "metadata": {},
   "outputs": [
    {
     "data": {
      "text/plain": [
       "101×101 Tridiagonal{Float64, Vector{Float64}}:\n",
       " 1.0        0.0         ⋅         …   ⋅          ⋅          ⋅ \n",
       " 0.0432099  0.91358    0.0432099      ⋅          ⋅          ⋅ \n",
       "  ⋅         0.0432099  0.91358        ⋅          ⋅          ⋅ \n",
       "  ⋅          ⋅         0.0432099      ⋅          ⋅          ⋅ \n",
       "  ⋅          ⋅          ⋅             ⋅          ⋅          ⋅ \n",
       "  ⋅          ⋅          ⋅         …   ⋅          ⋅          ⋅ \n",
       "  ⋅          ⋅          ⋅             ⋅          ⋅          ⋅ \n",
       "  ⋅          ⋅          ⋅             ⋅          ⋅          ⋅ \n",
       "  ⋅          ⋅          ⋅             ⋅          ⋅          ⋅ \n",
       "  ⋅          ⋅          ⋅             ⋅          ⋅          ⋅ \n",
       " ⋮                                ⋱                        ⋮\n",
       "  ⋅          ⋅          ⋅             ⋅          ⋅          ⋅ \n",
       "  ⋅          ⋅          ⋅             ⋅          ⋅          ⋅ \n",
       "  ⋅          ⋅          ⋅             ⋅          ⋅          ⋅ \n",
       "  ⋅          ⋅          ⋅         …   ⋅          ⋅          ⋅ \n",
       "  ⋅          ⋅          ⋅             ⋅          ⋅          ⋅ \n",
       "  ⋅          ⋅          ⋅            0.0432099   ⋅          ⋅ \n",
       "  ⋅          ⋅          ⋅            0.91358    0.0432099   ⋅ \n",
       "  ⋅          ⋅          ⋅            0.0432099  0.91358    0.0432099\n",
       "  ⋅          ⋅          ⋅         …   ⋅         0.0        1.0"
      ]
     },
     "metadata": {},
     "output_type": "display_data"
    }
   ],
   "source": [
    "B"
   ]
  },
  {
   "cell_type": "code",
   "execution_count": null,
   "metadata": {},
   "outputs": [],
   "source": []
  }
 ],
 "metadata": {
  "kernelspec": {
   "display_name": "Julia 1.8.3",
   "language": "julia",
   "name": "julia-1.8"
  },
  "language_info": {
   "file_extension": ".jl",
   "mimetype": "application/julia",
   "name": "julia",
   "version": "1.8.3"
  },
  "orig_nbformat": 4
 },
 "nbformat": 4,
 "nbformat_minor": 2
}
