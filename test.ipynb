{
 "cells": [
  {
   "cell_type": "code",
   "execution_count": 10,
   "metadata": {},
   "outputs": [
    {
     "data": {
      "text/plain": [
       "gauß_seidel (generic function with 1 method)"
      ]
     },
     "metadata": {},
     "output_type": "display_data"
    }
   ],
   "source": [
    "using Statistics\n",
    "include(\"integrator.jl\")"
   ]
  },
  {
   "cell_type": "code",
   "execution_count": 11,
   "metadata": {},
   "outputs": [
    {
     "data": {
      "text/plain": [
       "100×100 Matrix{Float64}:\n",
       "   0.0    0.0    0.0    0.0    0.0  …    0.0    0.0    0.0    0.0    0.0\n",
       "   0.0    0.0    0.0    0.0    0.0       0.0    0.0    0.0    0.0    0.0\n",
       "   0.0    0.0    0.0    0.0    0.0       0.0    0.0    0.0    0.0    0.0\n",
       "   0.0    0.0    0.0    0.0    0.0       0.0    0.0    0.0    0.0    0.0\n",
       "   0.0    0.0    0.0    0.0    0.0       0.0    0.0    0.0    0.0    0.0\n",
       "   0.0    0.0    0.0    0.0    0.0  …    0.0    0.0    0.0    0.0    0.0\n",
       "   0.0    0.0    0.0    0.0    0.0       0.0    0.0    0.0    0.0    0.0\n",
       "   0.0    0.0    0.0    0.0    0.0       0.0    0.0    0.0    0.0    0.0\n",
       "   0.0    0.0    0.0    0.0    0.0       0.0    0.0    0.0    0.0    0.0\n",
       "   0.0    0.0    0.0    0.0    0.0       0.0    0.0    0.0    0.0    0.0\n",
       "   ⋮                                ⋱    ⋮                         \n",
       "   0.0    0.0    0.0    0.0    0.0       0.0    0.0    0.0    0.0    0.0\n",
       "   0.0    0.0    0.0    0.0    0.0       0.0    0.0    0.0    0.0    0.0\n",
       "   0.0    0.0    0.0    0.0    0.0       0.0    0.0    0.0    0.0    0.0\n",
       "   0.0    0.0    0.0    0.0    0.0       0.0    0.0    0.0    0.0    0.0\n",
       "   0.0    0.0    0.0    0.0    0.0  …    0.0    0.0    0.0    0.0    0.0\n",
       "   0.0    0.0    0.0    0.0    0.0       0.0    0.0    0.0    0.0    0.0\n",
       "   0.0    0.0    0.0    0.0    0.0       0.0    0.0    0.0    0.0    0.0\n",
       "   0.0    0.0    0.0    0.0    0.0       0.0    0.0    0.0    0.0    0.0\n",
       " 100.0  100.0  100.0  100.0  100.0     100.0  100.0  100.0  100.0  100.0"
      ]
     },
     "metadata": {},
     "output_type": "display_data"
    }
   ],
   "source": [
    "Δl = 0.01\n",
    "l = 1\n",
    "N =Int(l/Δl)\n",
    "\n",
    "x0 = zeros(N,N)\n",
    "x0[end,:] .= 100\n",
    "x0"
   ]
  },
  {
   "cell_type": "code",
   "execution_count": 6,
   "metadata": {},
   "outputs": [
    {
     "data": {
      "text/plain": [
       "8"
      ]
     },
     "metadata": {},
     "output_type": "display_data"
    }
   ],
   "source": [
    "Threads.nthreads()"
   ]
  },
  {
   "cell_type": "code",
   "execution_count": null,
   "metadata": {},
   "outputs": [],
   "source": []
  }
 ],
 "metadata": {
  "kernelspec": {
   "display_name": "Julia 1.8.3",
   "language": "julia",
   "name": "julia-1.8"
  },
  "language_info": {
   "file_extension": ".jl",
   "mimetype": "application/julia",
   "name": "julia",
   "version": "1.8.3"
  },
  "orig_nbformat": 4
 },
 "nbformat": 4,
 "nbformat_minor": 2
}
